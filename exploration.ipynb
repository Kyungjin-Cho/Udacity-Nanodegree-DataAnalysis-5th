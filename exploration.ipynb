{
 "cells": [
  {
   "cell_type": "markdown",
   "metadata": {},
   "source": [
    "# Analyzing Bay Wheels's trip data \n",
    "## by Kyungjin Cho\n",
    "\n",
    "## Preliminary Wrangling\n",
    "\n",
    "> This document explores the Bay Wheels's trip data for public use containing over 230,000 bike rides. This data was modified on the 6th of November, 2019. "
   ]
  },
  {
   "cell_type": "markdown",
   "metadata": {},
   "source": [
    "## Part I. Gathering & Assessing Data"
   ]
  },
  {
   "cell_type": "code",
   "execution_count": 1,
   "metadata": {},
   "outputs": [],
   "source": [
    "# Import all packages and set plots to be embedded inline\n",
    "import numpy as np\n",
    "import pandas as pd\n",
    "import matplotlib.pyplot as plt\n",
    "import seaborn as sns\n",
    "import datetime\n",
    "\n",
    "%matplotlib inline"
   ]
  },
  {
   "cell_type": "code",
   "execution_count": 2,
   "metadata": {},
   "outputs": [],
   "source": [
    "# Load in the dataset into a pandas dataframe\n",
    "df = pd.read_csv('201910-baywheels-tripdata.csv')"
   ]
  },
  {
   "cell_type": "code",
   "execution_count": 3,
   "metadata": {
    "scrolled": true
   },
   "outputs": [
    {
     "data": {
      "text/html": [
       "<div>\n",
       "<style scoped>\n",
       "    .dataframe tbody tr th:only-of-type {\n",
       "        vertical-align: middle;\n",
       "    }\n",
       "\n",
       "    .dataframe tbody tr th {\n",
       "        vertical-align: top;\n",
       "    }\n",
       "\n",
       "    .dataframe thead th {\n",
       "        text-align: right;\n",
       "    }\n",
       "</style>\n",
       "<table border=\"1\" class=\"dataframe\">\n",
       "  <thead>\n",
       "    <tr style=\"text-align: right;\">\n",
       "      <th></th>\n",
       "      <th>duration_sec</th>\n",
       "      <th>start_time</th>\n",
       "      <th>end_time</th>\n",
       "      <th>start_station_id</th>\n",
       "      <th>start_station_name</th>\n",
       "      <th>start_station_latitude</th>\n",
       "      <th>start_station_longitude</th>\n",
       "      <th>end_station_id</th>\n",
       "      <th>end_station_name</th>\n",
       "      <th>end_station_latitude</th>\n",
       "      <th>end_station_longitude</th>\n",
       "      <th>bike_id</th>\n",
       "      <th>user_type</th>\n",
       "      <th>member_birth_year</th>\n",
       "      <th>member_gender</th>\n",
       "      <th>bike_share_for_all_trip</th>\n",
       "    </tr>\n",
       "  </thead>\n",
       "  <tbody>\n",
       "    <tr>\n",
       "      <th>0</th>\n",
       "      <td>62337</td>\n",
       "      <td>2019-10-31 16:25:01.5970</td>\n",
       "      <td>2019-11-01 09:43:59.0290</td>\n",
       "      <td>148</td>\n",
       "      <td>Horton St at 40th St</td>\n",
       "      <td>37.829705</td>\n",
       "      <td>-122.287610</td>\n",
       "      <td>385</td>\n",
       "      <td>Woolsey St at Sacramento St</td>\n",
       "      <td>37.850578</td>\n",
       "      <td>-122.278175</td>\n",
       "      <td>12222</td>\n",
       "      <td>Customer</td>\n",
       "      <td>NaN</td>\n",
       "      <td>NaN</td>\n",
       "      <td>No</td>\n",
       "    </tr>\n",
       "    <tr>\n",
       "      <th>1</th>\n",
       "      <td>72610</td>\n",
       "      <td>2019-10-31 13:04:11.1950</td>\n",
       "      <td>2019-11-01 09:14:21.8050</td>\n",
       "      <td>376</td>\n",
       "      <td>Illinois St at 20th St</td>\n",
       "      <td>37.760458</td>\n",
       "      <td>-122.387540</td>\n",
       "      <td>30</td>\n",
       "      <td>San Francisco Caltrain (Townsend St at 4th St)</td>\n",
       "      <td>37.776598</td>\n",
       "      <td>-122.395282</td>\n",
       "      <td>282</td>\n",
       "      <td>Customer</td>\n",
       "      <td>NaN</td>\n",
       "      <td>NaN</td>\n",
       "      <td>No</td>\n",
       "    </tr>\n",
       "    <tr>\n",
       "      <th>2</th>\n",
       "      <td>56636</td>\n",
       "      <td>2019-10-31 17:17:37.6480</td>\n",
       "      <td>2019-11-01 09:01:33.7720</td>\n",
       "      <td>453</td>\n",
       "      <td>Brannan St at 4th St</td>\n",
       "      <td>37.777934</td>\n",
       "      <td>-122.396973</td>\n",
       "      <td>453</td>\n",
       "      <td>Brannan St at 4th St</td>\n",
       "      <td>37.777934</td>\n",
       "      <td>-122.396973</td>\n",
       "      <td>10940</td>\n",
       "      <td>Customer</td>\n",
       "      <td>NaN</td>\n",
       "      <td>NaN</td>\n",
       "      <td>No</td>\n",
       "    </tr>\n",
       "    <tr>\n",
       "      <th>3</th>\n",
       "      <td>42250</td>\n",
       "      <td>2019-10-31 20:11:11.1270</td>\n",
       "      <td>2019-11-01 07:55:21.7440</td>\n",
       "      <td>182</td>\n",
       "      <td>19th Street BART Station</td>\n",
       "      <td>37.809369</td>\n",
       "      <td>-122.267951</td>\n",
       "      <td>163</td>\n",
       "      <td>Lake Merritt BART Station</td>\n",
       "      <td>37.797320</td>\n",
       "      <td>-122.265320</td>\n",
       "      <td>12623</td>\n",
       "      <td>Subscriber</td>\n",
       "      <td>1997.0</td>\n",
       "      <td>Male</td>\n",
       "      <td>No</td>\n",
       "    </tr>\n",
       "    <tr>\n",
       "      <th>4</th>\n",
       "      <td>40076</td>\n",
       "      <td>2019-10-31 18:48:32.1410</td>\n",
       "      <td>2019-11-01 05:56:28.4670</td>\n",
       "      <td>237</td>\n",
       "      <td>Fruitvale BART Station</td>\n",
       "      <td>37.775232</td>\n",
       "      <td>-122.224498</td>\n",
       "      <td>237</td>\n",
       "      <td>Fruitvale BART Station</td>\n",
       "      <td>37.775232</td>\n",
       "      <td>-122.224498</td>\n",
       "      <td>2601</td>\n",
       "      <td>Customer</td>\n",
       "      <td>NaN</td>\n",
       "      <td>NaN</td>\n",
       "      <td>No</td>\n",
       "    </tr>\n",
       "  </tbody>\n",
       "</table>\n",
       "</div>"
      ],
      "text/plain": [
       "   duration_sec                start_time                  end_time  \\\n",
       "0         62337  2019-10-31 16:25:01.5970  2019-11-01 09:43:59.0290   \n",
       "1         72610  2019-10-31 13:04:11.1950  2019-11-01 09:14:21.8050   \n",
       "2         56636  2019-10-31 17:17:37.6480  2019-11-01 09:01:33.7720   \n",
       "3         42250  2019-10-31 20:11:11.1270  2019-11-01 07:55:21.7440   \n",
       "4         40076  2019-10-31 18:48:32.1410  2019-11-01 05:56:28.4670   \n",
       "\n",
       "   start_station_id        start_station_name  start_station_latitude  \\\n",
       "0               148      Horton St at 40th St               37.829705   \n",
       "1               376    Illinois St at 20th St               37.760458   \n",
       "2               453      Brannan St at 4th St               37.777934   \n",
       "3               182  19th Street BART Station               37.809369   \n",
       "4               237    Fruitvale BART Station               37.775232   \n",
       "\n",
       "   start_station_longitude  end_station_id  \\\n",
       "0              -122.287610             385   \n",
       "1              -122.387540              30   \n",
       "2              -122.396973             453   \n",
       "3              -122.267951             163   \n",
       "4              -122.224498             237   \n",
       "\n",
       "                                 end_station_name  end_station_latitude  \\\n",
       "0                     Woolsey St at Sacramento St             37.850578   \n",
       "1  San Francisco Caltrain (Townsend St at 4th St)             37.776598   \n",
       "2                            Brannan St at 4th St             37.777934   \n",
       "3                       Lake Merritt BART Station             37.797320   \n",
       "4                          Fruitvale BART Station             37.775232   \n",
       "\n",
       "   end_station_longitude  bike_id   user_type  member_birth_year  \\\n",
       "0            -122.278175    12222    Customer                NaN   \n",
       "1            -122.395282      282    Customer                NaN   \n",
       "2            -122.396973    10940    Customer                NaN   \n",
       "3            -122.265320    12623  Subscriber             1997.0   \n",
       "4            -122.224498     2601    Customer                NaN   \n",
       "\n",
       "  member_gender bike_share_for_all_trip  \n",
       "0           NaN                      No  \n",
       "1           NaN                      No  \n",
       "2           NaN                      No  \n",
       "3          Male                      No  \n",
       "4           NaN                      No  "
      ]
     },
     "execution_count": 3,
     "metadata": {},
     "output_type": "execute_result"
    }
   ],
   "source": [
    "# Check first five (5) records\n",
    "df.head()"
   ]
  },
  {
   "cell_type": "code",
   "execution_count": 4,
   "metadata": {},
   "outputs": [
    {
     "data": {
      "text/html": [
       "<div>\n",
       "<style scoped>\n",
       "    .dataframe tbody tr th:only-of-type {\n",
       "        vertical-align: middle;\n",
       "    }\n",
       "\n",
       "    .dataframe tbody tr th {\n",
       "        vertical-align: top;\n",
       "    }\n",
       "\n",
       "    .dataframe thead th {\n",
       "        text-align: right;\n",
       "    }\n",
       "</style>\n",
       "<table border=\"1\" class=\"dataframe\">\n",
       "  <thead>\n",
       "    <tr style=\"text-align: right;\">\n",
       "      <th></th>\n",
       "      <th>duration_sec</th>\n",
       "      <th>start_time</th>\n",
       "      <th>end_time</th>\n",
       "      <th>start_station_id</th>\n",
       "      <th>start_station_name</th>\n",
       "      <th>start_station_latitude</th>\n",
       "      <th>start_station_longitude</th>\n",
       "      <th>end_station_id</th>\n",
       "      <th>end_station_name</th>\n",
       "      <th>end_station_latitude</th>\n",
       "      <th>end_station_longitude</th>\n",
       "      <th>bike_id</th>\n",
       "      <th>user_type</th>\n",
       "      <th>member_birth_year</th>\n",
       "      <th>member_gender</th>\n",
       "      <th>bike_share_for_all_trip</th>\n",
       "    </tr>\n",
       "  </thead>\n",
       "  <tbody>\n",
       "    <tr>\n",
       "      <th>177684</th>\n",
       "      <td>479</td>\n",
       "      <td>2019-10-08 18:54:05.5230</td>\n",
       "      <td>2019-10-08 19:02:04.8150</td>\n",
       "      <td>99</td>\n",
       "      <td>Folsom St at 15th St</td>\n",
       "      <td>37.767037</td>\n",
       "      <td>-122.415443</td>\n",
       "      <td>127</td>\n",
       "      <td>Valencia St at 21st St</td>\n",
       "      <td>37.756708</td>\n",
       "      <td>-122.421025</td>\n",
       "      <td>661</td>\n",
       "      <td>Subscriber</td>\n",
       "      <td>1980.0</td>\n",
       "      <td>Female</td>\n",
       "      <td>No</td>\n",
       "    </tr>\n",
       "    <tr>\n",
       "      <th>84190</th>\n",
       "      <td>612</td>\n",
       "      <td>2019-10-21 13:33:19.3390</td>\n",
       "      <td>2019-10-21 13:43:31.7280</td>\n",
       "      <td>129</td>\n",
       "      <td>Harrison St at 20th St</td>\n",
       "      <td>37.758862</td>\n",
       "      <td>-122.412544</td>\n",
       "      <td>76</td>\n",
       "      <td>McCoppin St at Valencia St</td>\n",
       "      <td>37.771662</td>\n",
       "      <td>-122.422423</td>\n",
       "      <td>11378</td>\n",
       "      <td>Subscriber</td>\n",
       "      <td>1958.0</td>\n",
       "      <td>Male</td>\n",
       "      <td>No</td>\n",
       "    </tr>\n",
       "    <tr>\n",
       "      <th>28767</th>\n",
       "      <td>2432</td>\n",
       "      <td>2019-10-28 16:10:56.2840</td>\n",
       "      <td>2019-10-28 16:51:29.1750</td>\n",
       "      <td>52</td>\n",
       "      <td>McAllister St at Baker St</td>\n",
       "      <td>37.777416</td>\n",
       "      <td>-122.441838</td>\n",
       "      <td>6</td>\n",
       "      <td>The Embarcadero at Sansome St</td>\n",
       "      <td>37.804770</td>\n",
       "      <td>-122.403234</td>\n",
       "      <td>3226</td>\n",
       "      <td>Customer</td>\n",
       "      <td>NaN</td>\n",
       "      <td>NaN</td>\n",
       "      <td>No</td>\n",
       "    </tr>\n",
       "    <tr>\n",
       "      <th>217067</th>\n",
       "      <td>1239</td>\n",
       "      <td>2019-10-03 15:02:33.1030</td>\n",
       "      <td>2019-10-03 15:23:12.5290</td>\n",
       "      <td>104</td>\n",
       "      <td>4th St at 16th St</td>\n",
       "      <td>37.767045</td>\n",
       "      <td>-122.390833</td>\n",
       "      <td>133</td>\n",
       "      <td>Valencia St at 22nd St</td>\n",
       "      <td>37.755213</td>\n",
       "      <td>-122.420975</td>\n",
       "      <td>10787</td>\n",
       "      <td>Subscriber</td>\n",
       "      <td>1980.0</td>\n",
       "      <td>Male</td>\n",
       "      <td>No</td>\n",
       "    </tr>\n",
       "    <tr>\n",
       "      <th>98291</th>\n",
       "      <td>766</td>\n",
       "      <td>2019-10-18 18:43:58.2180</td>\n",
       "      <td>2019-10-18 18:56:45.0160</td>\n",
       "      <td>80</td>\n",
       "      <td>Townsend St at 5th St</td>\n",
       "      <td>37.775235</td>\n",
       "      <td>-122.397437</td>\n",
       "      <td>16</td>\n",
       "      <td>Steuart St at Market St</td>\n",
       "      <td>37.794130</td>\n",
       "      <td>-122.394430</td>\n",
       "      <td>665</td>\n",
       "      <td>Customer</td>\n",
       "      <td>1974.0</td>\n",
       "      <td>Male</td>\n",
       "      <td>No</td>\n",
       "    </tr>\n",
       "    <tr>\n",
       "      <th>20165</th>\n",
       "      <td>739</td>\n",
       "      <td>2019-10-29 16:53:29.8320</td>\n",
       "      <td>2019-10-29 17:05:49.8220</td>\n",
       "      <td>52</td>\n",
       "      <td>McAllister St at Baker St</td>\n",
       "      <td>37.777416</td>\n",
       "      <td>-122.441838</td>\n",
       "      <td>42</td>\n",
       "      <td>San Francisco City Hall (Polk St at Grove St)</td>\n",
       "      <td>37.778650</td>\n",
       "      <td>-122.418230</td>\n",
       "      <td>361</td>\n",
       "      <td>Customer</td>\n",
       "      <td>NaN</td>\n",
       "      <td>NaN</td>\n",
       "      <td>No</td>\n",
       "    </tr>\n",
       "    <tr>\n",
       "      <th>23498</th>\n",
       "      <td>1224</td>\n",
       "      <td>2019-10-29 08:40:10.2280</td>\n",
       "      <td>2019-10-29 09:00:34.8170</td>\n",
       "      <td>424</td>\n",
       "      <td>Greenwich St at Webster St</td>\n",
       "      <td>37.799208</td>\n",
       "      <td>-122.434122</td>\n",
       "      <td>24</td>\n",
       "      <td>Spear St at Folsom St</td>\n",
       "      <td>37.789677</td>\n",
       "      <td>-122.390428</td>\n",
       "      <td>12996</td>\n",
       "      <td>Subscriber</td>\n",
       "      <td>NaN</td>\n",
       "      <td>NaN</td>\n",
       "      <td>No</td>\n",
       "    </tr>\n",
       "    <tr>\n",
       "      <th>37078</th>\n",
       "      <td>1249</td>\n",
       "      <td>2019-10-27 06:05:29.0920</td>\n",
       "      <td>2019-10-27 06:26:18.5810</td>\n",
       "      <td>365</td>\n",
       "      <td>Turk St at Fillmore St</td>\n",
       "      <td>37.780450</td>\n",
       "      <td>-122.431946</td>\n",
       "      <td>371</td>\n",
       "      <td>Lombard St at Columbus Ave</td>\n",
       "      <td>37.802746</td>\n",
       "      <td>-122.413579</td>\n",
       "      <td>10331</td>\n",
       "      <td>Subscriber</td>\n",
       "      <td>1979.0</td>\n",
       "      <td>Female</td>\n",
       "      <td>Yes</td>\n",
       "    </tr>\n",
       "    <tr>\n",
       "      <th>25293</th>\n",
       "      <td>448</td>\n",
       "      <td>2019-10-29 06:19:35.4160</td>\n",
       "      <td>2019-10-29 06:27:03.4790</td>\n",
       "      <td>193</td>\n",
       "      <td>Grand Ave at Santa Clara Ave</td>\n",
       "      <td>37.812744</td>\n",
       "      <td>-122.247215</td>\n",
       "      <td>182</td>\n",
       "      <td>19th Street BART Station</td>\n",
       "      <td>37.809369</td>\n",
       "      <td>-122.267951</td>\n",
       "      <td>9704</td>\n",
       "      <td>Subscriber</td>\n",
       "      <td>1970.0</td>\n",
       "      <td>Male</td>\n",
       "      <td>No</td>\n",
       "    </tr>\n",
       "    <tr>\n",
       "      <th>167007</th>\n",
       "      <td>270</td>\n",
       "      <td>2019-10-10 07:35:11.1960</td>\n",
       "      <td>2019-10-10 07:39:41.6350</td>\n",
       "      <td>462</td>\n",
       "      <td>Cruise Terminal at Pier 27</td>\n",
       "      <td>37.804223</td>\n",
       "      <td>-122.401643</td>\n",
       "      <td>12</td>\n",
       "      <td>Pier 1/2 at The Embarcadero</td>\n",
       "      <td>37.796389</td>\n",
       "      <td>-122.394586</td>\n",
       "      <td>9945</td>\n",
       "      <td>Subscriber</td>\n",
       "      <td>1984.0</td>\n",
       "      <td>Male</td>\n",
       "      <td>No</td>\n",
       "    </tr>\n",
       "  </tbody>\n",
       "</table>\n",
       "</div>"
      ],
      "text/plain": [
       "        duration_sec                start_time                  end_time  \\\n",
       "177684           479  2019-10-08 18:54:05.5230  2019-10-08 19:02:04.8150   \n",
       "84190            612  2019-10-21 13:33:19.3390  2019-10-21 13:43:31.7280   \n",
       "28767           2432  2019-10-28 16:10:56.2840  2019-10-28 16:51:29.1750   \n",
       "217067          1239  2019-10-03 15:02:33.1030  2019-10-03 15:23:12.5290   \n",
       "98291            766  2019-10-18 18:43:58.2180  2019-10-18 18:56:45.0160   \n",
       "20165            739  2019-10-29 16:53:29.8320  2019-10-29 17:05:49.8220   \n",
       "23498           1224  2019-10-29 08:40:10.2280  2019-10-29 09:00:34.8170   \n",
       "37078           1249  2019-10-27 06:05:29.0920  2019-10-27 06:26:18.5810   \n",
       "25293            448  2019-10-29 06:19:35.4160  2019-10-29 06:27:03.4790   \n",
       "167007           270  2019-10-10 07:35:11.1960  2019-10-10 07:39:41.6350   \n",
       "\n",
       "        start_station_id            start_station_name  \\\n",
       "177684                99          Folsom St at 15th St   \n",
       "84190                129        Harrison St at 20th St   \n",
       "28767                 52     McAllister St at Baker St   \n",
       "217067               104             4th St at 16th St   \n",
       "98291                 80         Townsend St at 5th St   \n",
       "20165                 52     McAllister St at Baker St   \n",
       "23498                424    Greenwich St at Webster St   \n",
       "37078                365        Turk St at Fillmore St   \n",
       "25293                193  Grand Ave at Santa Clara Ave   \n",
       "167007               462    Cruise Terminal at Pier 27   \n",
       "\n",
       "        start_station_latitude  start_station_longitude  end_station_id  \\\n",
       "177684               37.767037              -122.415443             127   \n",
       "84190                37.758862              -122.412544              76   \n",
       "28767                37.777416              -122.441838               6   \n",
       "217067               37.767045              -122.390833             133   \n",
       "98291                37.775235              -122.397437              16   \n",
       "20165                37.777416              -122.441838              42   \n",
       "23498                37.799208              -122.434122              24   \n",
       "37078                37.780450              -122.431946             371   \n",
       "25293                37.812744              -122.247215             182   \n",
       "167007               37.804223              -122.401643              12   \n",
       "\n",
       "                                     end_station_name  end_station_latitude  \\\n",
       "177684                         Valencia St at 21st St             37.756708   \n",
       "84190                      McCoppin St at Valencia St             37.771662   \n",
       "28767                   The Embarcadero at Sansome St             37.804770   \n",
       "217067                         Valencia St at 22nd St             37.755213   \n",
       "98291                         Steuart St at Market St             37.794130   \n",
       "20165   San Francisco City Hall (Polk St at Grove St)             37.778650   \n",
       "23498                           Spear St at Folsom St             37.789677   \n",
       "37078                      Lombard St at Columbus Ave             37.802746   \n",
       "25293                        19th Street BART Station             37.809369   \n",
       "167007                    Pier 1/2 at The Embarcadero             37.796389   \n",
       "\n",
       "        end_station_longitude  bike_id   user_type  member_birth_year  \\\n",
       "177684            -122.421025      661  Subscriber             1980.0   \n",
       "84190             -122.422423    11378  Subscriber             1958.0   \n",
       "28767             -122.403234     3226    Customer                NaN   \n",
       "217067            -122.420975    10787  Subscriber             1980.0   \n",
       "98291             -122.394430      665    Customer             1974.0   \n",
       "20165             -122.418230      361    Customer                NaN   \n",
       "23498             -122.390428    12996  Subscriber                NaN   \n",
       "37078             -122.413579    10331  Subscriber             1979.0   \n",
       "25293             -122.267951     9704  Subscriber             1970.0   \n",
       "167007            -122.394586     9945  Subscriber             1984.0   \n",
       "\n",
       "       member_gender bike_share_for_all_trip  \n",
       "177684        Female                      No  \n",
       "84190           Male                      No  \n",
       "28767            NaN                      No  \n",
       "217067          Male                      No  \n",
       "98291           Male                      No  \n",
       "20165            NaN                      No  \n",
       "23498            NaN                      No  \n",
       "37078         Female                     Yes  \n",
       "25293           Male                      No  \n",
       "167007          Male                      No  "
      ]
     },
     "execution_count": 4,
     "metadata": {},
     "output_type": "execute_result"
    }
   ],
   "source": [
    "# Check random ten (10) records\n",
    "df.sample(10)"
   ]
  },
  {
   "cell_type": "code",
   "execution_count": 5,
   "metadata": {},
   "outputs": [
    {
     "name": "stdout",
     "output_type": "stream",
     "text": [
      "(239895, 16)\n"
     ]
    }
   ],
   "source": [
    "# Check shape of dataframe\n",
    "print(df.shape)"
   ]
  },
  {
   "cell_type": "code",
   "execution_count": 6,
   "metadata": {},
   "outputs": [
    {
     "name": "stdout",
     "output_type": "stream",
     "text": [
      "duration_sec                 int64\n",
      "start_time                  object\n",
      "end_time                    object\n",
      "start_station_id             int64\n",
      "start_station_name          object\n",
      "start_station_latitude     float64\n",
      "start_station_longitude    float64\n",
      "end_station_id               int64\n",
      "end_station_name            object\n",
      "end_station_latitude       float64\n",
      "end_station_longitude      float64\n",
      "bike_id                      int64\n",
      "user_type                   object\n",
      "member_birth_year          float64\n",
      "member_gender               object\n",
      "bike_share_for_all_trip     object\n",
      "dtype: object\n"
     ]
    }
   ],
   "source": [
    "# Check data types of dataframe\n",
    "print(df.dtypes)"
   ]
  },
  {
   "cell_type": "code",
   "execution_count": 7,
   "metadata": {},
   "outputs": [
    {
     "name": "stdout",
     "output_type": "stream",
     "text": [
      "<class 'pandas.core.frame.DataFrame'>\n",
      "RangeIndex: 239895 entries, 0 to 239894\n",
      "Data columns (total 16 columns):\n",
      "duration_sec               239895 non-null int64\n",
      "start_time                 239895 non-null object\n",
      "end_time                   239895 non-null object\n",
      "start_station_id           239895 non-null int64\n",
      "start_station_name         239895 non-null object\n",
      "start_station_latitude     239895 non-null float64\n",
      "start_station_longitude    239895 non-null float64\n",
      "end_station_id             239895 non-null int64\n",
      "end_station_name           239895 non-null object\n",
      "end_station_latitude       239895 non-null float64\n",
      "end_station_longitude      239895 non-null float64\n",
      "bike_id                    239895 non-null int64\n",
      "user_type                  239895 non-null object\n",
      "member_birth_year          189678 non-null float64\n",
      "member_gender              189679 non-null object\n",
      "bike_share_for_all_trip    239895 non-null object\n",
      "dtypes: float64(5), int64(4), object(7)\n",
      "memory usage: 29.3+ MB\n"
     ]
    }
   ],
   "source": [
    "# Check information of the dataframe\n",
    "df.info(verbose=True, null_counts=True)"
   ]
  },
  {
   "cell_type": "code",
   "execution_count": 8,
   "metadata": {},
   "outputs": [
    {
     "data": {
      "text/plain": [
       "0"
      ]
     },
     "execution_count": 8,
     "metadata": {},
     "output_type": "execute_result"
    }
   ],
   "source": [
    "# Check duplication\n",
    "df.duplicated().sum()"
   ]
  },
  {
   "cell_type": "code",
   "execution_count": 9,
   "metadata": {},
   "outputs": [
    {
     "data": {
      "text/html": [
       "<div>\n",
       "<style scoped>\n",
       "    .dataframe tbody tr th:only-of-type {\n",
       "        vertical-align: middle;\n",
       "    }\n",
       "\n",
       "    .dataframe tbody tr th {\n",
       "        vertical-align: top;\n",
       "    }\n",
       "\n",
       "    .dataframe thead th {\n",
       "        text-align: right;\n",
       "    }\n",
       "</style>\n",
       "<table border=\"1\" class=\"dataframe\">\n",
       "  <thead>\n",
       "    <tr style=\"text-align: right;\">\n",
       "      <th></th>\n",
       "      <th>duration_sec</th>\n",
       "      <th>start_station_id</th>\n",
       "      <th>start_station_latitude</th>\n",
       "      <th>start_station_longitude</th>\n",
       "      <th>end_station_id</th>\n",
       "      <th>end_station_latitude</th>\n",
       "      <th>end_station_longitude</th>\n",
       "      <th>bike_id</th>\n",
       "      <th>member_birth_year</th>\n",
       "    </tr>\n",
       "  </thead>\n",
       "  <tbody>\n",
       "    <tr>\n",
       "      <th>count</th>\n",
       "      <td>239895.000000</td>\n",
       "      <td>239895.000000</td>\n",
       "      <td>239895.000000</td>\n",
       "      <td>239895.000000</td>\n",
       "      <td>239895.000000</td>\n",
       "      <td>239895.000000</td>\n",
       "      <td>239895.000000</td>\n",
       "      <td>239895.000000</td>\n",
       "      <td>189678.000000</td>\n",
       "    </tr>\n",
       "    <tr>\n",
       "      <th>mean</th>\n",
       "      <td>826.415528</td>\n",
       "      <td>158.184718</td>\n",
       "      <td>37.767016</td>\n",
       "      <td>-122.355633</td>\n",
       "      <td>150.661485</td>\n",
       "      <td>37.765500</td>\n",
       "      <td>-122.348888</td>\n",
       "      <td>8528.550382</td>\n",
       "      <td>1985.114979</td>\n",
       "    </tr>\n",
       "    <tr>\n",
       "      <th>std</th>\n",
       "      <td>2002.271276</td>\n",
       "      <td>133.071335</td>\n",
       "      <td>0.102741</td>\n",
       "      <td>0.120441</td>\n",
       "      <td>131.819174</td>\n",
       "      <td>0.275541</td>\n",
       "      <td>0.837078</td>\n",
       "      <td>4341.890037</td>\n",
       "      <td>10.138610</td>\n",
       "    </tr>\n",
       "    <tr>\n",
       "      <th>min</th>\n",
       "      <td>61.000000</td>\n",
       "      <td>3.000000</td>\n",
       "      <td>37.309014</td>\n",
       "      <td>-122.495241</td>\n",
       "      <td>3.000000</td>\n",
       "      <td>0.000000</td>\n",
       "      <td>-122.495241</td>\n",
       "      <td>12.000000</td>\n",
       "      <td>1889.000000</td>\n",
       "    </tr>\n",
       "    <tr>\n",
       "      <th>25%</th>\n",
       "      <td>379.000000</td>\n",
       "      <td>49.000000</td>\n",
       "      <td>37.769218</td>\n",
       "      <td>-122.415204</td>\n",
       "      <td>36.000000</td>\n",
       "      <td>37.769757</td>\n",
       "      <td>-122.411647</td>\n",
       "      <td>3316.000000</td>\n",
       "      <td>1980.000000</td>\n",
       "    </tr>\n",
       "    <tr>\n",
       "      <th>50%</th>\n",
       "      <td>596.000000</td>\n",
       "      <td>112.000000</td>\n",
       "      <td>37.780450</td>\n",
       "      <td>-122.398438</td>\n",
       "      <td>104.000000</td>\n",
       "      <td>37.780526</td>\n",
       "      <td>-122.398279</td>\n",
       "      <td>10272.000000</td>\n",
       "      <td>1988.000000</td>\n",
       "    </tr>\n",
       "    <tr>\n",
       "      <th>75%</th>\n",
       "      <td>913.000000</td>\n",
       "      <td>254.000000</td>\n",
       "      <td>37.795392</td>\n",
       "      <td>-122.387540</td>\n",
       "      <td>245.000000</td>\n",
       "      <td>37.795392</td>\n",
       "      <td>-122.387540</td>\n",
       "      <td>11874.000000</td>\n",
       "      <td>1992.000000</td>\n",
       "    </tr>\n",
       "    <tr>\n",
       "      <th>max</th>\n",
       "      <td>85545.000000</td>\n",
       "      <td>482.000000</td>\n",
       "      <td>37.880222</td>\n",
       "      <td>-121.864021</td>\n",
       "      <td>482.000000</td>\n",
       "      <td>37.880222</td>\n",
       "      <td>0.000000</td>\n",
       "      <td>13112.000000</td>\n",
       "      <td>2001.000000</td>\n",
       "    </tr>\n",
       "  </tbody>\n",
       "</table>\n",
       "</div>"
      ],
      "text/plain": [
       "        duration_sec  start_station_id  start_station_latitude  \\\n",
       "count  239895.000000     239895.000000           239895.000000   \n",
       "mean      826.415528        158.184718               37.767016   \n",
       "std      2002.271276        133.071335                0.102741   \n",
       "min        61.000000          3.000000               37.309014   \n",
       "25%       379.000000         49.000000               37.769218   \n",
       "50%       596.000000        112.000000               37.780450   \n",
       "75%       913.000000        254.000000               37.795392   \n",
       "max     85545.000000        482.000000               37.880222   \n",
       "\n",
       "       start_station_longitude  end_station_id  end_station_latitude  \\\n",
       "count            239895.000000   239895.000000         239895.000000   \n",
       "mean               -122.355633      150.661485             37.765500   \n",
       "std                   0.120441      131.819174              0.275541   \n",
       "min                -122.495241        3.000000              0.000000   \n",
       "25%                -122.415204       36.000000             37.769757   \n",
       "50%                -122.398438      104.000000             37.780526   \n",
       "75%                -122.387540      245.000000             37.795392   \n",
       "max                -121.864021      482.000000             37.880222   \n",
       "\n",
       "       end_station_longitude        bike_id  member_birth_year  \n",
       "count          239895.000000  239895.000000      189678.000000  \n",
       "mean             -122.348888    8528.550382        1985.114979  \n",
       "std                 0.837078    4341.890037          10.138610  \n",
       "min              -122.495241      12.000000        1889.000000  \n",
       "25%              -122.411647    3316.000000        1980.000000  \n",
       "50%              -122.398279   10272.000000        1988.000000  \n",
       "75%              -122.387540   11874.000000        1992.000000  \n",
       "max                 0.000000   13112.000000        2001.000000  "
      ]
     },
     "execution_count": 9,
     "metadata": {},
     "output_type": "execute_result"
    }
   ],
   "source": [
    "# Check descriptive statistics of the dataframe\n",
    "df.describe()"
   ]
  },
  {
   "cell_type": "markdown",
   "metadata": {},
   "source": [
    "## Part II. Cleaning Data\n",
    "\n",
    "> __Quality issues__\n",
    "- Calculate the users' age for convenience.\n",
    "- Remove age outliers.\n",
    "- Set appropriate data types."
   ]
  },
  {
   "cell_type": "code",
   "execution_count": 10,
   "metadata": {},
   "outputs": [],
   "source": [
    "# Create copies\n",
    "df_clean = df.copy()"
   ]
  },
  {
   "cell_type": "markdown",
   "metadata": {},
   "source": [
    "__Set appropriate data types__"
   ]
  },
  {
   "cell_type": "code",
   "execution_count": 11,
   "metadata": {},
   "outputs": [],
   "source": [
    "# To timestamps\n",
    "df_clean.start_time = pd.to_datetime(df_clean.start_time)\n",
    "df_clean.end_time = pd.to_datetime(df_clean.end_time)"
   ]
  },
  {
   "cell_type": "code",
   "execution_count": 12,
   "metadata": {},
   "outputs": [],
   "source": [
    "# To category\n",
    "df_clean.user_type = df_clean.user_type.astype('category')\n",
    "df_clean.bike_share_for_all_trip = df_clean.bike_share_for_all_trip.astype('category')\n",
    "df_clean.member_gender = df_clean.member_gender.astype('category')"
   ]
  },
  {
   "cell_type": "code",
   "execution_count": 13,
   "metadata": {},
   "outputs": [],
   "source": [
    "# To str\n",
    "df_clean.start_station_id = df_clean.bike_id.astype(str)\n",
    "df_clean.end_station_id = df_clean.bike_id.astype(str)\n",
    "df_clean.bike_id = df_clean.bike_id.astype(str)"
   ]
  },
  {
   "cell_type": "code",
   "execution_count": 14,
   "metadata": {},
   "outputs": [
    {
     "name": "stdout",
     "output_type": "stream",
     "text": [
      "<class 'pandas.core.frame.DataFrame'>\n",
      "RangeIndex: 239895 entries, 0 to 239894\n",
      "Data columns (total 16 columns):\n",
      "duration_sec               239895 non-null int64\n",
      "start_time                 239895 non-null datetime64[ns]\n",
      "end_time                   239895 non-null datetime64[ns]\n",
      "start_station_id           239895 non-null object\n",
      "start_station_name         239895 non-null object\n",
      "start_station_latitude     239895 non-null float64\n",
      "start_station_longitude    239895 non-null float64\n",
      "end_station_id             239895 non-null object\n",
      "end_station_name           239895 non-null object\n",
      "end_station_latitude       239895 non-null float64\n",
      "end_station_longitude      239895 non-null float64\n",
      "bike_id                    239895 non-null object\n",
      "user_type                  239895 non-null category\n",
      "member_birth_year          189678 non-null float64\n",
      "member_gender              189679 non-null category\n",
      "bike_share_for_all_trip    239895 non-null category\n",
      "dtypes: category(3), datetime64[ns](2), float64(5), int64(1), object(5)\n",
      "memory usage: 24.5+ MB\n"
     ]
    }
   ],
   "source": [
    "# Test\n",
    "df_clean.info(verbose=True, null_counts=True)"
   ]
  },
  {
   "cell_type": "markdown",
   "metadata": {},
   "source": [
    "__Calculate the users' age for convenience__"
   ]
  },
  {
   "cell_type": "code",
   "execution_count": 15,
   "metadata": {},
   "outputs": [],
   "source": [
    "# Calculate the age by using the birth year\n",
    "df_clean['member_age'] = 2019-df_clean['member_birth_year']"
   ]
  },
  {
   "cell_type": "code",
   "execution_count": 16,
   "metadata": {},
   "outputs": [
    {
     "data": {
      "text/html": [
       "<div>\n",
       "<style scoped>\n",
       "    .dataframe tbody tr th:only-of-type {\n",
       "        vertical-align: middle;\n",
       "    }\n",
       "\n",
       "    .dataframe tbody tr th {\n",
       "        vertical-align: top;\n",
       "    }\n",
       "\n",
       "    .dataframe thead th {\n",
       "        text-align: right;\n",
       "    }\n",
       "</style>\n",
       "<table border=\"1\" class=\"dataframe\">\n",
       "  <thead>\n",
       "    <tr style=\"text-align: right;\">\n",
       "      <th></th>\n",
       "      <th>duration_sec</th>\n",
       "      <th>start_time</th>\n",
       "      <th>end_time</th>\n",
       "      <th>start_station_id</th>\n",
       "      <th>start_station_name</th>\n",
       "      <th>start_station_latitude</th>\n",
       "      <th>start_station_longitude</th>\n",
       "      <th>end_station_id</th>\n",
       "      <th>end_station_name</th>\n",
       "      <th>end_station_latitude</th>\n",
       "      <th>end_station_longitude</th>\n",
       "      <th>bike_id</th>\n",
       "      <th>user_type</th>\n",
       "      <th>member_birth_year</th>\n",
       "      <th>member_gender</th>\n",
       "      <th>bike_share_for_all_trip</th>\n",
       "      <th>member_age</th>\n",
       "    </tr>\n",
       "  </thead>\n",
       "  <tbody>\n",
       "    <tr>\n",
       "      <th>51377</th>\n",
       "      <td>363</td>\n",
       "      <td>2019-10-24 21:36:55.596</td>\n",
       "      <td>2019-10-24 21:42:59.543</td>\n",
       "      <td>10083</td>\n",
       "      <td>Chestnut St at Van Ness Ave</td>\n",
       "      <td>37.802288</td>\n",
       "      <td>-122.424509</td>\n",
       "      <td>10083</td>\n",
       "      <td>Jackson St at Polk St</td>\n",
       "      <td>37.794160</td>\n",
       "      <td>-122.421568</td>\n",
       "      <td>10083</td>\n",
       "      <td>Subscriber</td>\n",
       "      <td>1981.0</td>\n",
       "      <td>Male</td>\n",
       "      <td>No</td>\n",
       "      <td>38.0</td>\n",
       "    </tr>\n",
       "    <tr>\n",
       "      <th>23947</th>\n",
       "      <td>319</td>\n",
       "      <td>2019-10-29 08:35:01.674</td>\n",
       "      <td>2019-10-29 08:40:21.535</td>\n",
       "      <td>11873</td>\n",
       "      <td>Berry St at King St</td>\n",
       "      <td>37.771762</td>\n",
       "      <td>-122.398438</td>\n",
       "      <td>11873</td>\n",
       "      <td>4th St at 16th St</td>\n",
       "      <td>37.767045</td>\n",
       "      <td>-122.390833</td>\n",
       "      <td>11873</td>\n",
       "      <td>Subscriber</td>\n",
       "      <td>1984.0</td>\n",
       "      <td>Male</td>\n",
       "      <td>No</td>\n",
       "      <td>35.0</td>\n",
       "    </tr>\n",
       "    <tr>\n",
       "      <th>102239</th>\n",
       "      <td>913</td>\n",
       "      <td>2019-10-18 10:41:31.358</td>\n",
       "      <td>2019-10-18 10:56:45.312</td>\n",
       "      <td>12068</td>\n",
       "      <td>3rd St at Townsend St</td>\n",
       "      <td>37.778742</td>\n",
       "      <td>-122.392741</td>\n",
       "      <td>12068</td>\n",
       "      <td>Mechanics Monument Plaza (Market St at Bush St)</td>\n",
       "      <td>37.791300</td>\n",
       "      <td>-122.399051</td>\n",
       "      <td>12068</td>\n",
       "      <td>Subscriber</td>\n",
       "      <td>1992.0</td>\n",
       "      <td>Male</td>\n",
       "      <td>No</td>\n",
       "      <td>27.0</td>\n",
       "    </tr>\n",
       "    <tr>\n",
       "      <th>66101</th>\n",
       "      <td>522</td>\n",
       "      <td>2019-10-23 11:40:17.933</td>\n",
       "      <td>2019-10-23 11:49:00.930</td>\n",
       "      <td>12117</td>\n",
       "      <td>Mission Bay Kids Park</td>\n",
       "      <td>37.772301</td>\n",
       "      <td>-122.393028</td>\n",
       "      <td>12117</td>\n",
       "      <td>Spear St at Folsom St</td>\n",
       "      <td>37.789677</td>\n",
       "      <td>-122.390428</td>\n",
       "      <td>12117</td>\n",
       "      <td>Customer</td>\n",
       "      <td>NaN</td>\n",
       "      <td>NaN</td>\n",
       "      <td>No</td>\n",
       "      <td>NaN</td>\n",
       "    </tr>\n",
       "    <tr>\n",
       "      <th>99590</th>\n",
       "      <td>785</td>\n",
       "      <td>2019-10-18 17:16:06.356</td>\n",
       "      <td>2019-10-18 17:29:12.309</td>\n",
       "      <td>9827</td>\n",
       "      <td>Berry St at 4th St</td>\n",
       "      <td>37.775880</td>\n",
       "      <td>-122.393170</td>\n",
       "      <td>9827</td>\n",
       "      <td>Clay St at Battery St</td>\n",
       "      <td>37.795001</td>\n",
       "      <td>-122.399970</td>\n",
       "      <td>9827</td>\n",
       "      <td>Subscriber</td>\n",
       "      <td>1991.0</td>\n",
       "      <td>Female</td>\n",
       "      <td>No</td>\n",
       "      <td>28.0</td>\n",
       "    </tr>\n",
       "  </tbody>\n",
       "</table>\n",
       "</div>"
      ],
      "text/plain": [
       "        duration_sec              start_time                end_time  \\\n",
       "51377            363 2019-10-24 21:36:55.596 2019-10-24 21:42:59.543   \n",
       "23947            319 2019-10-29 08:35:01.674 2019-10-29 08:40:21.535   \n",
       "102239           913 2019-10-18 10:41:31.358 2019-10-18 10:56:45.312   \n",
       "66101            522 2019-10-23 11:40:17.933 2019-10-23 11:49:00.930   \n",
       "99590            785 2019-10-18 17:16:06.356 2019-10-18 17:29:12.309   \n",
       "\n",
       "       start_station_id           start_station_name  start_station_latitude  \\\n",
       "51377             10083  Chestnut St at Van Ness Ave               37.802288   \n",
       "23947             11873          Berry St at King St               37.771762   \n",
       "102239            12068        3rd St at Townsend St               37.778742   \n",
       "66101             12117        Mission Bay Kids Park               37.772301   \n",
       "99590              9827           Berry St at 4th St               37.775880   \n",
       "\n",
       "        start_station_longitude end_station_id  \\\n",
       "51377               -122.424509          10083   \n",
       "23947               -122.398438          11873   \n",
       "102239              -122.392741          12068   \n",
       "66101               -122.393028          12117   \n",
       "99590               -122.393170           9827   \n",
       "\n",
       "                                       end_station_name  end_station_latitude  \\\n",
       "51377                             Jackson St at Polk St             37.794160   \n",
       "23947                                 4th St at 16th St             37.767045   \n",
       "102239  Mechanics Monument Plaza (Market St at Bush St)             37.791300   \n",
       "66101                             Spear St at Folsom St             37.789677   \n",
       "99590                             Clay St at Battery St             37.795001   \n",
       "\n",
       "        end_station_longitude bike_id   user_type  member_birth_year  \\\n",
       "51377             -122.421568   10083  Subscriber             1981.0   \n",
       "23947             -122.390833   11873  Subscriber             1984.0   \n",
       "102239            -122.399051   12068  Subscriber             1992.0   \n",
       "66101             -122.390428   12117    Customer                NaN   \n",
       "99590             -122.399970    9827  Subscriber             1991.0   \n",
       "\n",
       "       member_gender bike_share_for_all_trip  member_age  \n",
       "51377           Male                      No        38.0  \n",
       "23947           Male                      No        35.0  \n",
       "102239          Male                      No        27.0  \n",
       "66101            NaN                      No         NaN  \n",
       "99590         Female                      No        28.0  "
      ]
     },
     "execution_count": 16,
     "metadata": {},
     "output_type": "execute_result"
    }
   ],
   "source": [
    "# Test\n",
    "df_clean.sample(5)"
   ]
  },
  {
   "cell_type": "markdown",
   "metadata": {},
   "source": [
    "__Remove age outliers__"
   ]
  },
  {
   "cell_type": "code",
   "execution_count": 17,
   "metadata": {
    "scrolled": true
   },
   "outputs": [
    {
     "data": {
      "image/png": "[encoded data removed]",
      "text/plain": [
       "<Figure size 720x288 with 1 Axes>"
      ]
     },
     "metadata": {
      "needs_background": "light"
     },
     "output_type": "display_data"
    }
   ],
   "source": [
    "# Create the age boxplot\n",
    "plt.figure(figsize = [10, 4])\n",
    "base_color = sns.color_palette()[0]\n",
    "\n",
    "sns.boxplot(data=df_clean, x='member_age', color=base_color);"
   ]
  },
  {
   "cell_type": "code",
   "execution_count": 18,
   "metadata": {},
   "outputs": [
    {
     "data": {
      "text/plain": [
       "count    189678.000000\n",
       "mean         33.885021\n",
       "std          10.138610\n",
       "min          18.000000\n",
       "25%          27.000000\n",
       "50%          31.000000\n",
       "75%          39.000000\n",
       "max         130.000000\n",
       "Name: member_age, dtype: float64"
      ]
     },
     "execution_count": 18,
     "metadata": {},
     "output_type": "execute_result"
    }
   ],
   "source": [
    "# Check the descriptive information related to the age\n",
    "df_clean.member_age.describe()"
   ]
  },
  {
   "cell_type": "code",
   "execution_count": 19,
   "metadata": {},
   "outputs": [],
   "source": [
    "# Make the age of members below 60 because most members are below 60\n",
    "df_clean = df_clean.query('member_age <=60')"
   ]
  },
  {
   "cell_type": "code",
   "execution_count": 20,
   "metadata": {},
   "outputs": [],
   "source": [
    "# Set appropriate data types\n",
    "df_clean.member_birth_year = df_clean.member_birth_year.astype(int)\n",
    "df_clean.member_age = df_clean.member_age.astype(int)"
   ]
  },
  {
   "cell_type": "code",
   "execution_count": 21,
   "metadata": {},
   "outputs": [
    {
     "data": {
      "text/html": [
       "<div>\n",
       "<style scoped>\n",
       "    .dataframe tbody tr th:only-of-type {\n",
       "        vertical-align: middle;\n",
       "    }\n",
       "\n",
       "    .dataframe tbody tr th {\n",
       "        vertical-align: top;\n",
       "    }\n",
       "\n",
       "    .dataframe thead th {\n",
       "        text-align: right;\n",
       "    }\n",
       "</style>\n",
       "<table border=\"1\" class=\"dataframe\">\n",
       "  <thead>\n",
       "    <tr style=\"text-align: right;\">\n",
       "      <th></th>\n",
       "      <th>duration_sec</th>\n",
       "      <th>start_station_latitude</th>\n",
       "      <th>start_station_longitude</th>\n",
       "      <th>end_station_latitude</th>\n",
       "      <th>end_station_longitude</th>\n",
       "      <th>member_birth_year</th>\n",
       "      <th>member_age</th>\n",
       "    </tr>\n",
       "  </thead>\n",
       "  <tbody>\n",
       "    <tr>\n",
       "      <th>count</th>\n",
       "      <td>186180.000000</td>\n",
       "      <td>186180.000000</td>\n",
       "      <td>186180.000000</td>\n",
       "      <td>186180.000000</td>\n",
       "      <td>186180.000000</td>\n",
       "      <td>186180.000000</td>\n",
       "      <td>186180.000000</td>\n",
       "    </tr>\n",
       "    <tr>\n",
       "      <th>mean</th>\n",
       "      <td>704.556231</td>\n",
       "      <td>37.764512</td>\n",
       "      <td>-122.350893</td>\n",
       "      <td>37.763470</td>\n",
       "      <td>-122.345694</td>\n",
       "      <td>1985.724890</td>\n",
       "      <td>33.275110</td>\n",
       "    </tr>\n",
       "    <tr>\n",
       "      <th>std</th>\n",
       "      <td>1458.254174</td>\n",
       "      <td>0.108509</td>\n",
       "      <td>0.125890</td>\n",
       "      <td>0.240191</td>\n",
       "      <td>0.705684</td>\n",
       "      <td>9.086783</td>\n",
       "      <td>9.086783</td>\n",
       "    </tr>\n",
       "    <tr>\n",
       "      <th>min</th>\n",
       "      <td>61.000000</td>\n",
       "      <td>37.309014</td>\n",
       "      <td>-122.472823</td>\n",
       "      <td>0.000000</td>\n",
       "      <td>-122.472823</td>\n",
       "      <td>1959.000000</td>\n",
       "      <td>18.000000</td>\n",
       "    </tr>\n",
       "    <tr>\n",
       "      <th>25%</th>\n",
       "      <td>356.000000</td>\n",
       "      <td>37.769201</td>\n",
       "      <td>-122.413278</td>\n",
       "      <td>37.769305</td>\n",
       "      <td>-122.410662</td>\n",
       "      <td>1981.000000</td>\n",
       "      <td>26.000000</td>\n",
       "    </tr>\n",
       "    <tr>\n",
       "      <th>50%</th>\n",
       "      <td>557.000000</td>\n",
       "      <td>37.778999</td>\n",
       "      <td>-122.398279</td>\n",
       "      <td>37.780526</td>\n",
       "      <td>-122.397086</td>\n",
       "      <td>1988.000000</td>\n",
       "      <td>31.000000</td>\n",
       "    </tr>\n",
       "    <tr>\n",
       "      <th>75%</th>\n",
       "      <td>839.000000</td>\n",
       "      <td>37.795392</td>\n",
       "      <td>-122.294837</td>\n",
       "      <td>37.795392</td>\n",
       "      <td>-122.294837</td>\n",
       "      <td>1993.000000</td>\n",
       "      <td>38.000000</td>\n",
       "    </tr>\n",
       "    <tr>\n",
       "      <th>max</th>\n",
       "      <td>85545.000000</td>\n",
       "      <td>37.880222</td>\n",
       "      <td>-121.864021</td>\n",
       "      <td>37.880222</td>\n",
       "      <td>0.000000</td>\n",
       "      <td>2001.000000</td>\n",
       "      <td>60.000000</td>\n",
       "    </tr>\n",
       "  </tbody>\n",
       "</table>\n",
       "</div>"
      ],
      "text/plain": [
       "        duration_sec  start_station_latitude  start_station_longitude  \\\n",
       "count  186180.000000           186180.000000            186180.000000   \n",
       "mean      704.556231               37.764512              -122.350893   \n",
       "std      1458.254174                0.108509                 0.125890   \n",
       "min        61.000000               37.309014              -122.472823   \n",
       "25%       356.000000               37.769201              -122.413278   \n",
       "50%       557.000000               37.778999              -122.398279   \n",
       "75%       839.000000               37.795392              -122.294837   \n",
       "max     85545.000000               37.880222              -121.864021   \n",
       "\n",
       "       end_station_latitude  end_station_longitude  member_birth_year  \\\n",
       "count         186180.000000          186180.000000      186180.000000   \n",
       "mean              37.763470            -122.345694        1985.724890   \n",
       "std                0.240191               0.705684           9.086783   \n",
       "min                0.000000            -122.472823        1959.000000   \n",
       "25%               37.769305            -122.410662        1981.000000   \n",
       "50%               37.780526            -122.397086        1988.000000   \n",
       "75%               37.795392            -122.294837        1993.000000   \n",
       "max               37.880222               0.000000        2001.000000   \n",
       "\n",
       "          member_age  \n",
       "count  186180.000000  \n",
       "mean       33.275110  \n",
       "std         9.086783  \n",
       "min        18.000000  \n",
       "25%        26.000000  \n",
       "50%        31.000000  \n",
       "75%        38.000000  \n",
       "max        60.000000  "
      ]
     },
     "execution_count": 21,
     "metadata": {},
     "output_type": "execute_result"
    }
   ],
   "source": [
    "# Test\n",
    "df_clean.describe()"
   ]
  },
  {
   "cell_type": "code",
   "execution_count": 22,
   "metadata": {},
   "outputs": [
    {
     "name": "stdout",
     "output_type": "stream",
     "text": [
      "<class 'pandas.core.frame.DataFrame'>\n",
      "Int64Index: 186180 entries, 3 to 239894\n",
      "Data columns (total 17 columns):\n",
      "duration_sec               186180 non-null int64\n",
      "start_time                 186180 non-null datetime64[ns]\n",
      "end_time                   186180 non-null datetime64[ns]\n",
      "start_station_id           186180 non-null object\n",
      "start_station_name         186180 non-null object\n",
      "start_station_latitude     186180 non-null float64\n",
      "start_station_longitude    186180 non-null float64\n",
      "end_station_id             186180 non-null object\n",
      "end_station_name           186180 non-null object\n",
      "end_station_latitude       186180 non-null float64\n",
      "end_station_longitude      186180 non-null float64\n",
      "bike_id                    186180 non-null object\n",
      "user_type                  186180 non-null category\n",
      "member_birth_year          186180 non-null int32\n",
      "member_gender              186180 non-null category\n",
      "bike_share_for_all_trip    186180 non-null category\n",
      "member_age                 186180 non-null int32\n",
      "dtypes: category(3), datetime64[ns](2), float64(4), int32(2), int64(1), object(5)\n",
      "memory usage: 20.4+ MB\n"
     ]
    }
   ],
   "source": [
    "# Test\n",
    "df_clean.info(verbose=True, null_counts=True)"
   ]
  },
  {
   "cell_type": "markdown",
   "metadata": {},
   "source": [
    "__Save the cleaned data__"
   ]
  },
  {
   "cell_type": "code",
   "execution_count": 23,
   "metadata": {},
   "outputs": [],
   "source": [
    "# Save file\n",
    "df_clean.to_csv('clean_data.csv', index=False)"
   ]
  },
  {
   "cell_type": "markdown",
   "metadata": {},
   "source": [
    "### What is the structure of your dataset?\n",
    "\n",
    "> There are about 239,895 bike rides in the dataset with 17 features \n",
    "- duration: duration_sec, start_time, end_time \n",
    "- stations(start/end): id, name, latitude, longitude  \n",
    "- user: bike_id, user_type, birty_year, gender, age \n",
    "- bike share: bike_share_for_all_trip\n",
    "\n",
    "### What is/are the main feature(s) of interest in your dataset?\n",
    "\n",
    "> FIrst of all, I want to figure out which age range uses this service the most and the least. Also, I want to know when members use bikes the most in detail.\n",
    "\n",
    "### What features in the dataset do you think will help support your investigation into your feature(s) of interest?\n",
    "\n",
    "> I think that diverse datetime and age will help support my investigation into my features of interest"
   ]
  },
  {
   "cell_type": "markdown",
   "metadata": {},
   "source": [
    "## Part III. Univariate Exploration\n",
    "\n",
    "> I will start by looking at the duration and datetime of the trips"
   ]
  },
  {
   "cell_type": "code",
   "execution_count": 24,
   "metadata": {},
   "outputs": [
    {
     "data": {
      "image/png": "[encoded data removed]",
      "text/plain": [
       "<Figure size 576x360 with 1 Axes>"
      ]
     },
     "metadata": {
      "needs_background": "light"
     },
     "output_type": "display_data"
    }
   ],
   "source": [
    "# Duration sec distribution per user type\n",
    "bin_edges = np.arange(0, 3600,60)\n",
    "\n",
    "plt.figure(figsize=[8, 5])\n",
    "plt.hist(data = df_clean, x = 'duration_sec', bins = bin_edges)\n",
    "\n",
    "plt.title(\"Trip Duration (10/2019)\", y=1.03, fontsize=12, fontweight='bold')\n",
    "plt.xlabel('Duration (sec)')\n",
    "plt.ylabel('Usage');"
   ]
  },
  {
   "cell_type": "markdown",
   "metadata": {},
   "source": [
    "When we look at this histogram named 'Trip Duration', we can found out that that trip durations are no longer than 1800 seconds.\n",
    "\n",
    "Therefore, we can guess reasons for it by using this result. Firstly, members of this service can use it for short trip such as commuting. Also, there can be additional charge for long trips "
   ]
  },
  {
   "cell_type": "code",
   "execution_count": 25,
   "metadata": {},
   "outputs": [],
   "source": [
    "# Extract start time weekdays\n",
    "# extract start time weekdays\n",
    "df_clean['start_time_weekday']=df_clean['start_time'].dt.strftime('%a')"
   ]
  },
  {
   "cell_type": "code",
   "execution_count": 26,
   "metadata": {},
   "outputs": [],
   "source": [
    "# Extract start time hour\n",
    "df_clean['start_time_hour']=df_clean['start_time'].dt.hour"
   ]
  },
  {
   "cell_type": "code",
   "execution_count": 27,
   "metadata": {},
   "outputs": [],
   "source": [
    "# Save file\n",
    "df_clean.to_csv('clean_final.csv', index=False)"
   ]
  },
  {
   "cell_type": "code",
   "execution_count": 28,
   "metadata": {},
   "outputs": [
    {
     "data": {
      "text/plain": [
       "<Figure size 576x360 with 0 Axes>"
      ]
     },
     "metadata": {},
     "output_type": "display_data"
    },
    {
     "data": {
      "image/png": "[encoded data removed]",
      "text/plain": [
       "<Figure size 360x360 with 1 Axes>"
      ]
     },
     "metadata": {
      "needs_background": "light"
     },
     "output_type": "display_data"
    }
   ],
   "source": [
    "# Weekly usage of this system\n",
    "\n",
    "weekday = ['Mon', 'Tue', 'Wed', 'Thu', 'Fri', 'Sat', 'Sun']\n",
    "plt.figure(figsize=[8, 5])\n",
    "week_plot = sns.catplot(data=df_clean, x='start_time_weekday', kind='count', color = base_color, order = weekday)\n",
    "week_plot.set_axis_labels(\"Days of Week\", \"Usage\")\n",
    "week_plot.fig.suptitle('Weekly Usage (10/2019)', y=1.03, fontsize=12, fontweight='bold');"
   ]
  },
  {
   "cell_type": "markdown",
   "metadata": {},
   "source": [
    "People mainly used this bike share system during weekdays comparing to weekend. Among weekdays, specific days, such as 'Tuesday', 'Wednesday' and 'Thursday', are the most popular days. Therefore, we can guess that this system is probably used for commuting.  "
   ]
  },
  {
   "cell_type": "code",
   "execution_count": 29,
   "metadata": {},
   "outputs": [
    {
     "data": {
      "text/plain": [
       "<Figure size 576x360 with 0 Axes>"
      ]
     },
     "metadata": {},
     "output_type": "display_data"
    },
    {
     "data": {
      "image/png": "[encoded data removed]",
      "text/plain": [
       "<Figure size 360x360 with 1 Axes>"
      ]
     },
     "metadata": {
      "needs_background": "light"
     },
     "output_type": "display_data"
    }
   ],
   "source": [
    "# Hourly usage of this system\n",
    "plt.figure(figsize=[8, 5])\n",
    "hour_plot = sns.catplot(data=df_clean, x='start_time_hour', kind='count', color = base_color)\n",
    "hour_plot.set_axis_labels(\"Hours\", \"Usage\")\n",
    "hour_plot.fig.suptitle('Hourly Usage (10/2019)', y=1.03, fontsize=12, fontweight='bold');"
   ]
  },
  {
   "cell_type": "markdown",
   "metadata": {},
   "source": [
    "This system is mainly used around '8am - 9am' and '5pm - 6pm' according to this result. Therefore, we can guess that this system is probably used for commuting."
   ]
  },
  {
   "cell_type": "markdown",
   "metadata": {},
   "source": [
    "### Discuss the distribution(s) of your variable(s) of interest. Were there any unusual points? Did you need to perform any transformations?\n",
    "\n",
    "> When I observed the duration time(seconds), there were some cases which has longer duration time than one day(24 hours). Therefore, I set the range of the histogram between 0 second to 3600 seconds. \n",
    "\n",
    "### Of the features you investigated, were there any unusual distributions? Did you perform any operations on the data to tidy, adjust, or change the form of the data? If so, why did you do this?\n",
    "\n",
    "> When I created a new column named 'member_age', the age of most members were below 60. Therefore, I made the age of members below 60."
   ]
  },
  {
   "cell_type": "markdown",
   "metadata": {},
   "source": [
    "## Part IV. Bivariate Exploration\n",
    "\n",
    "> In this section, I will exploring the 'user type' dataset mainly"
   ]
  },
  {
   "cell_type": "code",
   "execution_count": 30,
   "metadata": {},
   "outputs": [],
   "source": [
    "# Split the user type - customer\n",
    "customer = df_clean.query('user_type == \"Customer\"')['bike_id'].count()"
   ]
  },
  {
   "cell_type": "code",
   "execution_count": 31,
   "metadata": {},
   "outputs": [],
   "source": [
    "# Split the user type - subscriber\n",
    "subscriber = df_clean.query('user_type == \"Subscriber\"')['bike_id'].count()"
   ]
  },
  {
   "cell_type": "code",
   "execution_count": 32,
   "metadata": {},
   "outputs": [],
   "source": [
    "# Calculating the number of customers & subsribers\n",
    "customer_proportion = customer / df_clean['bike_id'].count()\n",
    "subscriber_proportion = subscriber / df_clean['bike_id'].count()"
   ]
  },
  {
   "cell_type": "code",
   "execution_count": 33,
   "metadata": {
    "scrolled": false
   },
   "outputs": [
    {
     "data": {
      "image/png": "[encoded data removed]",
      "text/plain": [
       "<Figure size 576x360 with 1 Axes>"
      ]
     },
     "metadata": {},
     "output_type": "display_data"
    }
   ],
   "source": [
    "# Create a pie chart\n",
    "plt.figure(figsize = [8, 5])\n",
    "plt.subplot(1, 2, 2)\n",
    "\n",
    "labels = ['Customer', 'Subscriber']\n",
    "sizes = [customer_proportion, subscriber_proportion]\n",
    "colors = ['darkred', 'skyblue']\n",
    "explode = (0, 0.1)\n",
    "\n",
    "plt.pie(sizes, explode=explode, labels=labels, colors = colors,\n",
    "        autopct='%1.1f%%', shadow=True, startangle=90)\n",
    "plt.axis('equal')\n",
    "\n",
    "plt.suptitle('User Type', y=1.03, fontsize=12, fontweight='bold');"
   ]
  },
  {
   "cell_type": "code",
   "execution_count": 34,
   "metadata": {
    "scrolled": true
   },
   "outputs": [
    {
     "data": {
      "image/png": "[encoded data removed]",
      "text/plain": [
       "<Figure size 576x360 with 1 Axes>"
      ]
     },
     "metadata": {
      "needs_background": "light"
     },
     "output_type": "display_data"
    }
   ],
   "source": [
    "# Create a bar chart\n",
    "plt.figure(figsize = [8, 5])\n",
    "plt.subplot(1, 2, 1)\n",
    "\n",
    "user = sns.countplot(data=df_clean, x=\"user_type\", order=df_clean.user_type.value_counts().index)\n",
    "user.set_xlabel('User Type')\n",
    "user.set_ylabel('Usage')\n",
    "plt.suptitle('User Type', y=1.03, fontsize=12, fontweight='bold');"
   ]
  },
  {
   "cell_type": "markdown",
   "metadata": {},
   "source": [
    "This bike sharing service is mainly used by __subscribers__. About 95.9% of users are __subscribers__."
   ]
  },
  {
   "cell_type": "code",
   "execution_count": 35,
   "metadata": {
    "scrolled": true
   },
   "outputs": [
    {
     "data": {
      "image/png": "[encoded data removed]",
      "text/plain": [
       "<Figure size 720x360 with 2 Axes>"
      ]
     },
     "metadata": {
      "needs_background": "light"
     },
     "output_type": "display_data"
    }
   ],
   "source": [
    "# Hourly usege of the bike sharing system per user type\n",
    "g = sns.catplot(data=df_clean, x='start_time_hour', col=\"user_type\", kind='count', sharey = False,\n",
    "            color = base_color)\n",
    "g.set_axis_labels(\"Hours\", \"Usage\")\n",
    "g.set_titles(\"{col_name}\")\n",
    "g.fig.suptitle('Hourly Usage (per user type)', y=1.03, fontsize=12, fontweight='bold');"
   ]
  },
  {
   "cell_type": "markdown",
   "metadata": {},
   "source": [
    "__Customers__ use this bike sharing service mainly between 8 am - 7 pm, and the renting peak time is around 5 pm. On the other hand, __Subscribers__ use this system at around 7-9am and 4-7pm when they go to their work and come back to their houses.\n"
   ]
  },
  {
   "cell_type": "code",
   "execution_count": 36,
   "metadata": {},
   "outputs": [
    {
     "data": {
      "image/png": "[encoded data removed]",
      "text/plain": [
       "<Figure size 720x360 with 2 Axes>"
      ]
     },
     "metadata": {
      "needs_background": "light"
     },
     "output_type": "display_data"
    }
   ],
   "source": [
    "# Weekly usege of the bike sharing system per user type\n",
    "weekday = ['Mon', 'Tue', 'Wed', 'Thu', 'Fri', 'Sat', 'Sun']\n",
    "g = sns.catplot(data=df_clean, x='start_time_weekday', col=\"user_type\", kind='count', sharey = False,\n",
    "            color = base_color, order = weekday)\n",
    "g.set_axis_labels(\"Days of Week\", \"Usage\")\n",
    "g.set_titles(\"{col_name}\")\n",
    "g.fig.suptitle('Weekly Usage (per user type)', y=1.03, fontsize=12, fontweight='bold');"
   ]
  },
  {
   "cell_type": "markdown",
   "metadata": {},
   "source": [
    "We can guess that __customers__ are probably occasional riders and tourist because of this result. They use this bike sharing system for weekend trips as well. On the other hand, __subscribers__ are probably daily commuters.They use this sharing sevice on weekdays mainly."
   ]
  },
  {
   "cell_type": "code",
   "execution_count": 37,
   "metadata": {},
   "outputs": [
    {
     "data": {
      "image/png": "[encoded data removed]",
      "text/plain": [
       "<Figure size 720x360 with 2 Axes>"
      ]
     },
     "metadata": {
      "needs_background": "light"
     },
     "output_type": "display_data"
    }
   ],
   "source": [
    "# Distribution time of the bike sharing system per user type\n",
    "data = df_clean.query('duration_sec < 3600')\n",
    "g = sns.catplot(data=data, y='duration_sec', col=\"user_type\", kind='box',\n",
    "            color = base_color)\n",
    "g.set_titles(col_template = '{col_name}')\n",
    "g.set_axis_labels(\"\", \"Duration (sec)\")\n",
    "g.fig.suptitle('Trip Duration (per user type)', y=1.03, fontsize=12, fontweight='bold');"
   ]
  },
  {
   "cell_type": "markdown",
   "metadata": {},
   "source": [
    "When we look at this box plots named 'Trip Duration (per user type)', we can see that trip durations are longer for __customers__ than __subscribers__. Therefore, we can guess that __subscribers__ are probably commuters who take short trips to work or school."
   ]
  },
  {
   "cell_type": "markdown",
   "metadata": {},
   "source": [
    "### Talk about some of the relationships you observed in this part of the investigation. How did the feature(s) of interest vary with other features in the dataset?\n",
    "\n",
    "> I added the user type to this analysis because I wanted to get information about different usage behaviours between __customers__ and __subscribers__. \n",
    "When I looked at those charts, I could guess that __customers__ are probably casual riders such as tourists. They used this bike shareing service mainly during weekends than weekdays. Also, they used this system mainly between 8 am - 7 pm, and the renting peak time is around 5 pm. \n",
    "In addition, I could expect that __subscribers__ are daily commuters according to these charts. They used this service more often during weekdays than weekends. They used this system at around 7-9am and 4-7pm when they go to their work and come back to their houses as well.\n",
    "\n",
    "### Did you observe any interesting relationships between the other features (not the main feature(s) of interest)?\n",
    "\n",
    "> Trip durations are longer for __customers__ than __subscribers__. We can guess that it's because of the fact that __customers__ prefer longer trips and weekend bike riding. On the other hand, we can expact that __subscribers__ probably use this system mainly for commuting."
   ]
  },
  {
   "cell_type": "markdown",
   "metadata": {},
   "source": [
    "## Part V. Multivariate Exploration\n",
    "\n",
    "> In this section, I will exploring the 'gender' dataset mainly"
   ]
  },
  {
   "cell_type": "code",
   "execution_count": 38,
   "metadata": {},
   "outputs": [
    {
     "data": {
      "image/png": "[encoded data removed]",
      "text/plain": [
       "<Figure size 576x360 with 1 Axes>"
      ]
     },
     "metadata": {
      "needs_background": "light"
     },
     "output_type": "display_data"
    }
   ],
   "source": [
    "# Create a bar chart\n",
    "plt.figure(figsize = [8, 5])\n",
    "\n",
    "plt.subplot(1, 2, 1)\n",
    "\n",
    "g = sns.countplot(data=df_clean, x=\"user_type\", hue=\"member_gender\", order=df_clean.user_type.value_counts().index)\n",
    "g.set_xlabel('User Type')\n",
    "g.set_ylabel('Usage');\n",
    "\n",
    "plt.suptitle('User Type', y=1.03, fontsize=12, fontweight='bold');"
   ]
  },
  {
   "cell_type": "markdown",
   "metadata": {},
   "source": [
    "When we look at this bar chart, we can know that __men__ are using this system more often than __women__ and others (the registration system allows you to choose 'Other' as a gender). However, the ratio is much smaller between __men__ and __women__ for customers than for subscribers. Each ratio is 2:1 and 3:1"
   ]
  },
  {
   "cell_type": "code",
   "execution_count": 39,
   "metadata": {},
   "outputs": [
    {
     "data": {
      "image/png": "[encoded data removed]",
      "text/plain": [
       "<Figure size 450.375x360 with 1 Axes>"
      ]
     },
     "metadata": {
      "needs_background": "light"
     },
     "output_type": "display_data"
    }
   ],
   "source": [
    "# Create a chart about duration (sec) distribution per user type and gender\n",
    "\n",
    "g = sns.catplot(data=data, x='user_type', y=\"duration_sec\", hue=\"member_gender\", kind=\"violin\")\n",
    "\n",
    "g.set_axis_labels(\"User Type\", \"Duration (sec)\")\n",
    "g._legend.set_title('Gender')\n",
    "g.fig.suptitle('Trip Duration (per user type and gender)', y=1.03, fontsize=12, fontweight='bold');"
   ]
  },
  {
   "cell_type": "markdown",
   "metadata": {},
   "source": [
    "When we look at this chart, we can realize that __women__ take longer trips than __men__ and others. Especially, we can observe the differences more easily for customer than subscriber"
   ]
  },
  {
   "cell_type": "code",
   "execution_count": 40,
   "metadata": {},
   "outputs": [
    {
     "data": {
      "text/plain": [
       "<Figure size 432x288 with 0 Axes>"
      ]
     },
     "metadata": {},
     "output_type": "display_data"
    },
    {
     "data": {
      "image/png": "[encoded data removed]",
      "text/plain": [
       "<Figure size 576x360 with 4 Axes>"
      ]
     },
     "metadata": {
      "needs_background": "light"
     },
     "output_type": "display_data"
    }
   ],
   "source": [
    "# Create a chart\n",
    "df_clean['start_time_weekday'] = pd.Categorical(df_clean['start_time_weekday'], \n",
    "                                                categories=['Mon','Tue','Wed','Thu','Fri','Sat', 'Sun'], \n",
    "                                                ordered=True)\n",
    "\n",
    "plt.suptitle('Hourly Usage (per user type, weekdays and hours)', fontsize=12, fontweight='bold')\n",
    "plt.figure(figsize = [8, 5])\n",
    "#For customers\n",
    "plt.subplot(1, 2, 1)\n",
    "df_customer = df_clean.query('user_type == \"Customer\"').groupby([\"start_time_hour\", \"start_time_weekday\"])[\"bike_id\"].size().reset_index()\n",
    "df_customer = df_customer.pivot(\"start_time_hour\", \"start_time_weekday\", \"bike_id\")\n",
    "sns.heatmap(df_customer, cmap=\"BuPu\")\n",
    "\n",
    "plt.title(\"Customer\", y=1.015)\n",
    "plt.xlabel('Days of Week')\n",
    "plt.ylabel('Hours')\n",
    "\n",
    "# For subscribers\n",
    "plt.subplot(1, 2, 2)\n",
    "df_subscriber = df_clean.query('user_type == \"Subscriber\"').groupby([\"start_time_hour\", \"start_time_weekday\"])[\"bike_id\"].size().reset_index()\n",
    "df_subscriber = df_subscriber.pivot(\"start_time_hour\", \"start_time_weekday\", \"bike_id\")\n",
    "sns.heatmap(df_subscriber, cmap=\"BuPu\")\n",
    "\n",
    "plt.title(\"Subscriber\", y=1.015)\n",
    "plt.xlabel('Days of Week')\n",
    "plt.ylabel('');"
   ]
  },
  {
   "cell_type": "markdown",
   "metadata": {},
   "source": [
    "When we observe this plot, we can get information about hourly usage and weekly usage of each user type. Accroding to this result, we can check that __customers__ use this bike sharing service more often on weekend. On the other hand, __subscribers__ use this system on weekdays mainly.However, both types of users use this systmem mainly at 8 am and 5 pm on weekdays. "
   ]
  },
  {
   "cell_type": "markdown",
   "metadata": {},
   "source": [
    "### Talk about some of the relationships you observed in this part of the investigation. Were there features that strengthened each other in terms of looking at your feature(s) of interest?\n",
    "\n",
    "> I wanted to figure out characteristics of users' behaviors. Plotting usage of this service throughout the day and within the days of week gave me some information. For example, customers use this bike sharing service more often on weekend while subscribers use this system on weekdays mainly. However, specific time when botu users this service mainy were similar with each other.\n",
    "\n",
    "\n",
    "### Were there any interesting or surprising interactions between features?\n",
    "\n",
    "> I tried to check about the information related to trend difference for genders for each user group. Actually, There were not much of the differences in trends. However, I could know that women take longer trips than men and others."
   ]
  }
 ],
 "metadata": {
  "kernelspec": {
   "display_name": "Python 3",
   "language": "python",
   "name": "python3"
  },
  "language_info": {
   "codemirror_mode": {
    "name": "ipython",
    "version": 3
   },
   "file_extension": ".py",
   "mimetype": "text/x-python",
   "name": "python",
   "nbconvert_exporter": "python",
   "pygments_lexer": "ipython3",
   "version": "3.7.3"
  }
 },
 "nbformat": 4,
 "nbformat_minor": 2
}
